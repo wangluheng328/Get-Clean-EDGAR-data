{
 "cells": [
  {
   "cell_type": "markdown",
   "metadata": {},
   "source": [
    "## Multithreading"
   ]
  },
  {
   "cell_type": "code",
   "execution_count": 1,
   "metadata": {},
   "outputs": [],
   "source": [
    "# Import modules\n",
    "import time\n",
    "import concurrent.futures\n",
    "from sec_edgar_downloader import Downloader\n",
    "import pandas as pd\n",
    "from tqdm import tqdm\n",
    "import requests"
   ]
  },
  {
   "cell_type": "code",
   "execution_count": 3,
   "metadata": {},
   "outputs": [],
   "source": [
    "# Initialize the downloader from the pre-written package for edgar download. \n",
    "# Create a list of all possible parameters, aka file types supported in the downloader.\n",
    "dl = Downloader('data/')\n",
    "# dl = Downloader('C:\\\\Users\\\\wangl\\\\Desktop\\\\Work\\\\Files')\n",
    "\n",
    "df = pd.read_excel('company.xlsx')\n",
    "cik = list(set(df.CIK[1:]))\n",
    "\n",
    "filetypes = ['8-K','10-K','10KSB','10-Q','13F-NT','13F-HR','SC 13G','SD','S-1']\n"
   ]
  },
  {
   "cell_type": "code",
   "execution_count": 3,
   "metadata": {},
   "outputs": [
    {
     "data": {
      "text/html": [
       "<div>\n",
       "<style scoped>\n",
       "    .dataframe tbody tr th:only-of-type {\n",
       "        vertical-align: middle;\n",
       "    }\n",
       "\n",
       "    .dataframe tbody tr th {\n",
       "        vertical-align: top;\n",
       "    }\n",
       "\n",
       "    .dataframe thead th {\n",
       "        text-align: right;\n",
       "    }\n",
       "</style>\n",
       "<table border=\"1\" class=\"dataframe\">\n",
       "  <thead>\n",
       "    <tr style=\"text-align: right;\">\n",
       "      <th></th>\n",
       "      <th>Company Name</th>\n",
       "      <th>Unnamed: 1</th>\n",
       "      <th>Unnamed: 2</th>\n",
       "      <th>Form Type</th>\n",
       "      <th>CIK</th>\n",
       "      <th>Date Filed</th>\n",
       "      <th>File Name</th>\n",
       "    </tr>\n",
       "  </thead>\n",
       "  <tbody>\n",
       "    <tr>\n",
       "      <th>0</th>\n",
       "      <td>-----------------------------------</td>\n",
       "      <td>------</td>\n",
       "      <td>-----------------</td>\n",
       "      <td>----------------</td>\n",
       "      <td>---------</td>\n",
       "      <td>-------------</td>\n",
       "      <td>---------------------------------------------</td>\n",
       "    </tr>\n",
       "    <tr>\n",
       "      <th>1</th>\n",
       "      <td>&amp;VEST Domestic Fund II LP</td>\n",
       "      <td>NaN</td>\n",
       "      <td>NaN</td>\n",
       "      <td>D</td>\n",
       "      <td>1800903</td>\n",
       "      <td>2020-01-27 00:00:00</td>\n",
       "      <td>edgar/data/1800903/0001800903-20-000001.txt</td>\n",
       "    </tr>\n",
       "    <tr>\n",
       "      <th>2</th>\n",
       "      <td>&amp;VEST Offshore Fund II L.P.</td>\n",
       "      <td>NaN</td>\n",
       "      <td>NaN</td>\n",
       "      <td>D</td>\n",
       "      <td>1800902</td>\n",
       "      <td>2020-01-27 00:00:00</td>\n",
       "      <td>edgar/data/1800902/0001800902-20-000001.txt</td>\n",
       "    </tr>\n",
       "    <tr>\n",
       "      <th>3</th>\n",
       "      <td>&amp;vest Domestic Fund II KPIV, L.P.</td>\n",
       "      <td>NaN</td>\n",
       "      <td>NaN</td>\n",
       "      <td>D</td>\n",
       "      <td>1802417</td>\n",
       "      <td>2020-02-06 00:00:00</td>\n",
       "      <td>edgar/data/1802417/0001802417-20-000001.txt</td>\n",
       "    </tr>\n",
       "    <tr>\n",
       "      <th>4</th>\n",
       "      <td>024 Pharma, Inc.</td>\n",
       "      <td>NaN</td>\n",
       "      <td>NaN</td>\n",
       "      <td>8-K/A</td>\n",
       "      <td>1307969</td>\n",
       "      <td>2020-02-20 00:00:00</td>\n",
       "      <td>edgar/data/1307969/0001683168-20-000541.txt</td>\n",
       "    </tr>\n",
       "  </tbody>\n",
       "</table>\n",
       "</div>"
      ],
      "text/plain": [
       "                          Company Name Unnamed: 1         Unnamed: 2  \\\n",
       "0  -----------------------------------     ------  -----------------   \n",
       "1            &VEST Domestic Fund II LP        NaN                NaN   \n",
       "2          &VEST Offshore Fund II L.P.        NaN                NaN   \n",
       "3    &vest Domestic Fund II KPIV, L.P.        NaN                NaN   \n",
       "4                     024 Pharma, Inc.        NaN                NaN   \n",
       "\n",
       "          Form Type        CIK           Date Filed  \\\n",
       "0  ----------------  ---------        -------------   \n",
       "1                 D    1800903  2020-01-27 00:00:00   \n",
       "2                 D    1800902  2020-01-27 00:00:00   \n",
       "3                 D    1802417  2020-02-06 00:00:00   \n",
       "4             8-K/A    1307969  2020-02-20 00:00:00   \n",
       "\n",
       "                                       File Name  \n",
       "0  ---------------------------------------------  \n",
       "1    edgar/data/1800903/0001800903-20-000001.txt  \n",
       "2    edgar/data/1800902/0001800902-20-000001.txt  \n",
       "3    edgar/data/1802417/0001802417-20-000001.txt  \n",
       "4    edgar/data/1307969/0001683168-20-000541.txt  "
      ]
     },
     "execution_count": 3,
     "metadata": {},
     "output_type": "execute_result"
    }
   ],
   "source": [
    "df.head()"
   ]
  },
  {
   "cell_type": "code",
   "execution_count": 4,
   "metadata": {},
   "outputs": [
    {
     "data": {
      "text/plain": [
       "178819"
      ]
     },
     "execution_count": 4,
     "metadata": {},
     "output_type": "execute_result"
    }
   ],
   "source": [
    "len(df)"
   ]
  },
  {
   "cell_type": "code",
   "execution_count": 4,
   "metadata": {},
   "outputs": [
    {
     "data": {
      "text/plain": [
       "51883"
      ]
     },
     "execution_count": 4,
     "metadata": {},
     "output_type": "execute_result"
    }
   ],
   "source": [
    "len(cik)"
   ]
  },
  {
   "cell_type": "code",
   "execution_count": 5,
   "metadata": {},
   "outputs": [],
   "source": [
    "c = sorted(cik)"
   ]
  },
  {
   "cell_type": "code",
   "execution_count": 6,
   "metadata": {},
   "outputs": [
    {
     "name": "stderr",
     "output_type": "stream",
     "text": [
      "100%|██████████| 51883/51883 [13:34:45<00:00,  1.50s/it]   \n"
     ]
    }
   ],
   "source": [
    "for i in tqdm(c):\n",
    "    def download_edgar(filetype):\n",
    "        try:\n",
    "            dl.get(filetype,i,1)\n",
    "        except:\n",
    "            pass\n",
    "    # Initialize multithreading. Loop will be iterated based on diff companies.\n",
    "    # download_edgar function needs to be modified if one wants to iterate on file types in the multi threads.\n",
    "    with concurrent.futures.ThreadPoolExecutor() as executor:\n",
    "        executor.map(download_edgar, filetypes)"
   ]
  },
  {
   "cell_type": "code",
   "execution_count": 13,
   "metadata": {},
   "outputs": [
    {
     "data": {
      "text/plain": [
       "17205"
      ]
     },
     "execution_count": 13,
     "metadata": {},
     "output_type": "execute_result"
    }
   ],
   "source": [
    "import glob\n",
    "len(glob.glob('data/sec_edgar_filings/*'))"
   ]
  },
  {
   "cell_type": "code",
   "execution_count": null,
   "metadata": {},
   "outputs": [],
   "source": []
  },
  {
   "cell_type": "code",
   "execution_count": 14,
   "metadata": {},
   "outputs": [],
   "source": [
    "# get documentation\n",
    "r = requests.get('https://www.sec.gov/info/edgar/forms/edgform.pdf')\n",
    "with open('documentation.pdf','wb') as pdf:\n",
    "    pdf.write(r.content)\n"
   ]
  },
  {
   "cell_type": "code",
   "execution_count": 70,
   "metadata": {},
   "outputs": [],
   "source": [
    "# !pip install pdfplumber"
   ]
  },
  {
   "cell_type": "code",
   "execution_count": 46,
   "metadata": {},
   "outputs": [],
   "source": [
    "## extract the table from the pdf documentation\n",
    "import pdfplumber\n",
    "import pandas as pd\n",
    "\n",
    "d = {}\n",
    "with pdfplumber.open(\"documentation.pdf\") as pdf:\n",
    "    for page in pdf.pages:\n",
    "        try: \n",
    "            table = page.extract_table()\n",
    "            d[page.page_number] = pd.DataFrame(table[1:], columns=table[0])\n",
    "        except:\n",
    "            continue"
   ]
  },
  {
   "cell_type": "code",
   "execution_count": 67,
   "metadata": {
    "scrolled": true
   },
   "outputs": [
    {
     "data": {
      "text/html": [
       "<div>\n",
       "<style scoped>\n",
       "    .dataframe tbody tr th:only-of-type {\n",
       "        vertical-align: middle;\n",
       "    }\n",
       "\n",
       "    .dataframe tbody tr th {\n",
       "        vertical-align: top;\n",
       "    }\n",
       "\n",
       "    .dataframe thead th {\n",
       "        text-align: right;\n",
       "    }\n",
       "</style>\n",
       "<table border=\"1\" class=\"dataframe\">\n",
       "  <thead>\n",
       "    <tr style=\"text-align: right;\">\n",
       "      <th></th>\n",
       "      <th>Submission Type</th>\n",
       "      <th>Description</th>\n",
       "      <th>Tool/ \n",
       "Template \n",
       "Number</th>\n",
       "      <th>Filer-\n",
       "Constructed \n",
       "Form Spec.</th>\n",
       "    </tr>\n",
       "  </thead>\n",
       "  <tbody>\n",
       "    <tr>\n",
       "      <th>0</th>\n",
       "      <td>1-A, 1-A/A</td>\n",
       "      <td>Offering statement under Regulation A</td>\n",
       "      <td>EDGAR \\nFiling \\nWebsite</td>\n",
       "      <td>EDGAR  \\nREG A XML \\nTechnical \\nSpecification</td>\n",
       "    </tr>\n",
       "    <tr>\n",
       "      <th>1</th>\n",
       "      <td>1-A POS</td>\n",
       "      <td>Post-qualification amendment to a 1-A offering...</td>\n",
       "      <td>EDGAR \\nFiling \\nWebsite</td>\n",
       "      <td>EDGAR  \\nREG A XML \\nTechnical \\nSpecification</td>\n",
       "    </tr>\n",
       "    <tr>\n",
       "      <th>2</th>\n",
       "      <td>1-A-W, 1-A-W/A</td>\n",
       "      <td>Withdrawal of offering statement under Regulat...</td>\n",
       "      <td>EDGARLink \\nOnline</td>\n",
       "      <td>EDGARLink \\nOnline XML \\nTechnical \\nSpecifica...</td>\n",
       "    </tr>\n",
       "    <tr>\n",
       "      <th>3</th>\n",
       "      <td>1-E, 1-E/A</td>\n",
       "      <td>Notification under Regulation E by small busin...</td>\n",
       "      <td>EDGARLink \\nOnline</td>\n",
       "      <td>EDGARLink \\nOnline XML \\nTechnical \\nSpecifica...</td>\n",
       "    </tr>\n",
       "    <tr>\n",
       "      <th>4</th>\n",
       "      <td>1-E AD, 1-E AD/A</td>\n",
       "      <td>Sales material filed pursuant to Rule 607 unde...</td>\n",
       "      <td>EDGARLink \\nOnline</td>\n",
       "      <td>EDGARLink \\nOnline XML \\nTechnical \\nSpecifica...</td>\n",
       "    </tr>\n",
       "    <tr>\n",
       "      <th>5</th>\n",
       "      <td>1-K, 1-K/A</td>\n",
       "      <td>Annual Report Pursuant to Regulation A</td>\n",
       "      <td>EDGAR \\nFiling \\nWebsite</td>\n",
       "      <td>EDGAR  \\nREG A XML \\nTechnical \\nSpecification</td>\n",
       "    </tr>\n",
       "    <tr>\n",
       "      <th>6</th>\n",
       "      <td>1-SA, 1-SA/A</td>\n",
       "      <td>Semiannual Report Pursuant to Regulation A</td>\n",
       "      <td>EDGARLink \\nOnline</td>\n",
       "      <td>EDGARLink \\nOnline XML \\nTechnical \\nSpecifica...</td>\n",
       "    </tr>\n",
       "    <tr>\n",
       "      <th>7</th>\n",
       "      <td>1-U, 1-U/A</td>\n",
       "      <td>Current Report pursuant to Regulation A</td>\n",
       "      <td>EDGARLink \\nOnline</td>\n",
       "      <td>EDGARLink \\nOnline XML \\nTechnical \\nSpecifica...</td>\n",
       "    </tr>\n",
       "    <tr>\n",
       "      <th>8</th>\n",
       "      <td>1-Z, 1-Z/A</td>\n",
       "      <td>Exit Report under Regulation A</td>\n",
       "      <td>EDGAR \\nFiling \\nWebsite</td>\n",
       "      <td>EDGAR REG \\nA XML \\nTechnical \\nSpecification</td>\n",
       "    </tr>\n",
       "    <tr>\n",
       "      <th>9</th>\n",
       "      <td>1-Z-W, 1-Z-W/A</td>\n",
       "      <td>Withdrawal of Exit Report under Regulation A</td>\n",
       "      <td>EDGARLink \\nOnline</td>\n",
       "      <td>EDGARLink \\nOnline XML \\nTechnical \\nSpecifica...</td>\n",
       "    </tr>\n",
       "  </tbody>\n",
       "</table>\n",
       "</div>"
      ],
      "text/plain": [
       "    Submission Type                                        Description  \\\n",
       "0        1-A, 1-A/A              Offering statement under Regulation A   \n",
       "1           1-A POS  Post-qualification amendment to a 1-A offering...   \n",
       "2    1-A-W, 1-A-W/A  Withdrawal of offering statement under Regulat...   \n",
       "3        1-E, 1-E/A  Notification under Regulation E by small busin...   \n",
       "4  1-E AD, 1-E AD/A  Sales material filed pursuant to Rule 607 unde...   \n",
       "5        1-K, 1-K/A             Annual Report Pursuant to Regulation A   \n",
       "6      1-SA, 1-SA/A         Semiannual Report Pursuant to Regulation A   \n",
       "7        1-U, 1-U/A            Current Report pursuant to Regulation A   \n",
       "8        1-Z, 1-Z/A                     Exit Report under Regulation A   \n",
       "9    1-Z-W, 1-Z-W/A       Withdrawal of Exit Report under Regulation A   \n",
       "\n",
       "  Tool/ \\nTemplate \\nNumber                   Filer-\\nConstructed \\nForm Spec.  \n",
       "0  EDGAR \\nFiling \\nWebsite     EDGAR  \\nREG A XML \\nTechnical \\nSpecification  \n",
       "1  EDGAR \\nFiling \\nWebsite     EDGAR  \\nREG A XML \\nTechnical \\nSpecification  \n",
       "2        EDGARLink \\nOnline  EDGARLink \\nOnline XML \\nTechnical \\nSpecifica...  \n",
       "3        EDGARLink \\nOnline  EDGARLink \\nOnline XML \\nTechnical \\nSpecifica...  \n",
       "4        EDGARLink \\nOnline  EDGARLink \\nOnline XML \\nTechnical \\nSpecifica...  \n",
       "5  EDGAR \\nFiling \\nWebsite     EDGAR  \\nREG A XML \\nTechnical \\nSpecification  \n",
       "6        EDGARLink \\nOnline  EDGARLink \\nOnline XML \\nTechnical \\nSpecifica...  \n",
       "7        EDGARLink \\nOnline  EDGARLink \\nOnline XML \\nTechnical \\nSpecifica...  \n",
       "8  EDGAR \\nFiling \\nWebsite      EDGAR REG \\nA XML \\nTechnical \\nSpecification  \n",
       "9        EDGARLink \\nOnline  EDGARLink \\nOnline XML \\nTechnical \\nSpecifica...  "
      ]
     },
     "execution_count": 67,
     "metadata": {},
     "output_type": "execute_result"
    }
   ],
   "source": [
    "d[2]"
   ]
  },
  {
   "cell_type": "code",
   "execution_count": null,
   "metadata": {},
   "outputs": [],
   "source": []
  }
 ],
 "metadata": {
  "kernelspec": {
   "display_name": "Python 3",
   "language": "python",
   "name": "python3"
  },
  "language_info": {
   "codemirror_mode": {
    "name": "ipython",
    "version": 3
   },
   "file_extension": ".py",
   "mimetype": "text/x-python",
   "name": "python",
   "nbconvert_exporter": "python",
   "pygments_lexer": "ipython3",
   "version": "3.7.3"
  }
 },
 "nbformat": 4,
 "nbformat_minor": 2
}
